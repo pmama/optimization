{
 "cells": [
  {
   "cell_type": "markdown",
   "id": "fd88ba5a",
   "metadata": {},
   "source": [
    "# Linear Programming\n",
    "\n",
    "- **Linear Programming(LP) is a method to achieve the best outcome (such as maximum profit or lowest cost) in a mathematical model whose requirements are represented by linear relationships. The term \"linear\" refers to the fact that the objective function and the constraints are linear.**\n",
    "\n",
    "- **It is a mathematical programming that is used to find the best or optimal solution to a problem that requires decision or set of decisions about how best to use a set of limited resources to achieve  a state of goal of objectives.**\n",
    "\n",
    "## LP Model Formulation\n",
    "\n",
    "- **Decision variables**\n",
    "> -- mathematical symbols representing levels of acivity of an operation\n",
    "\n",
    "- **Objective Function**\n",
    "> -- a linear relationship reflecting the objective of an operation\n",
    "> -- most frequent objective of buiseness is to *maximize profit*\n",
    "> -- most frequent objective of individual operation units is to *minimize cost*\n",
    "- **Constraints**\n",
    "> -- a linear relationship representing a restriction on decision making"
   ]
  },
  {
   "cell_type": "markdown",
   "id": "c74c7586",
   "metadata": {},
   "source": [
    "# Diet Problem:\n",
    "\n",
    "- A dietician has to develop a special diet using two foods P and Q\n",
    "\n",
    "- Each packet (containing 30g) of food P contains \n",
    "> - 12 units of calcium\n",
    "> - 4 units of iron\n",
    "> - 6 units of cholestrol\n",
    "> - 6 units of Vit A\n",
    "\n",
    "\n",
    "- Each packet (containing 30g) of food Q contains \n",
    "> - 3 units of calcium\n",
    "> - 20 units of iron\n",
    "> - 4 units of cholestrol\n",
    "> - 3 units of Vit A\n",
    "\n",
    "- The diet requires at least \n",
    "> - 240 units of calcium\n",
    "> - 460 units of iron\n",
    "> - 300 units of cholestrol\n",
    "\n",
    "### `How many packets of each food should be used to minimize the amount of vitamin  A in the diet?`\n",
    "\n"
   ]
  },
  {
   "cell_type": "code",
   "execution_count": 1,
   "id": "eca7e82b",
   "metadata": {},
   "outputs": [
    {
     "data": {
      "text/html": [
       "<div>\n",
       "<style scoped>\n",
       "    .dataframe tbody tr th:only-of-type {\n",
       "        vertical-align: middle;\n",
       "    }\n",
       "\n",
       "    .dataframe tbody tr th {\n",
       "        vertical-align: top;\n",
       "    }\n",
       "\n",
       "    .dataframe thead th {\n",
       "        text-align: right;\n",
       "    }\n",
       "</style>\n",
       "<table border=\"1\" class=\"dataframe\">\n",
       "  <thead>\n",
       "    <tr style=\"text-align: right;\">\n",
       "      <th></th>\n",
       "      <th>calcium</th>\n",
       "      <th>iron</th>\n",
       "      <th>cholesterol</th>\n",
       "      <th>vitA</th>\n",
       "    </tr>\n",
       "    <tr>\n",
       "      <th>Food</th>\n",
       "      <th></th>\n",
       "      <th></th>\n",
       "      <th></th>\n",
       "      <th></th>\n",
       "    </tr>\n",
       "  </thead>\n",
       "  <tbody>\n",
       "    <tr>\n",
       "      <th>P</th>\n",
       "      <td>12</td>\n",
       "      <td>4</td>\n",
       "      <td>6</td>\n",
       "      <td>6</td>\n",
       "    </tr>\n",
       "    <tr>\n",
       "      <th>Q</th>\n",
       "      <td>3</td>\n",
       "      <td>20</td>\n",
       "      <td>4</td>\n",
       "      <td>3</td>\n",
       "    </tr>\n",
       "    <tr>\n",
       "      <th>Diet</th>\n",
       "      <td>at least 240</td>\n",
       "      <td>at least 460</td>\n",
       "      <td>at most 300</td>\n",
       "      <td>?</td>\n",
       "    </tr>\n",
       "  </tbody>\n",
       "</table>\n",
       "</div>"
      ],
      "text/plain": [
       "           calcium          iron  cholesterol vitA\n",
       "Food                                              \n",
       "P               12             4            6    6\n",
       "Q                3            20            4    3\n",
       "Diet  at least 240  at least 460  at most 300    ?"
      ]
     },
     "execution_count": 1,
     "metadata": {},
     "output_type": "execute_result"
    }
   ],
   "source": [
    "import pandas as pd\n",
    "import numpy as np\n",
    "data = {'Food': ['P', 'Q', 'Diet'],\n",
    "        'calcium': [12, 3, 'at least 240'],\n",
    "        'iron': [4, 20, 'at least 460'],\n",
    "        'cholesterol': [6, 4, 'at most 300'],\n",
    "        'vitA': [6, 3, '?']}\n",
    "\n",
    "df = pd.DataFrame(data)\n",
    "\n",
    "# Set \"Food\" as the index\n",
    "df.set_index('Food', inplace=True)\n",
    "df"
   ]
  },
  {
   "cell_type": "markdown",
   "id": "46e7c203",
   "metadata": {},
   "source": [
    "Let $x_1$ and $x_2$ the number of packets of food P and Q respectively.\n",
    "Obviously $x\\geq 0$,$y\\geq 0$. Mathematical formulation of the given problem is as follows:\n",
    "\n",
    "- **Minimize $z = 6x_1 +3x_2$** (vitamin A) subject to constraints\n",
    "\n",
    "- constarint on calcium : $12x_1 +3x_2 \\geq 240$ , i.e., $4x_1 + x_2 \\geq 80$\n",
    "\n",
    "- constarint on iron : $4x_1 + 20x_2 \\geq 460$ , i.e., $x_1 +5x_2 \\geq 115$\n",
    "\n",
    "- constarint on cholesterol : $6x_1 +4x_2 \\leq 300$ , i.e., $3x_1+2x_2 \\leq 150$\n",
    "\n",
    "- Non negative restriction$x_1\\geq 0$,$x_2\\geq 0$"
   ]
  },
  {
   "cell_type": "code",
   "execution_count": 3,
   "id": "28dfd842",
   "metadata": {},
   "outputs": [
    {
     "name": "stdout",
     "output_type": "stream",
     "text": [
      "Requirement already satisfied: pulp in d:\\anaconda\\lib\\site-packages (2.7.0)\n"
     ]
    },
    {
     "name": "stderr",
     "output_type": "stream",
     "text": [
      "WARNING: Ignoring invalid distribution -ensorflow-intel (d:\\anaconda\\lib\\site-packages)\n",
      "WARNING: Ignoring invalid distribution -ensorflow-intel (d:\\anaconda\\lib\\site-packages)\n",
      "WARNING: Ignoring invalid distribution -ensorflow-intel (d:\\anaconda\\lib\\site-packages)\n",
      "WARNING: Ignoring invalid distribution -ensorflow-intel (d:\\anaconda\\lib\\site-packages)\n",
      "WARNING: Ignoring invalid distribution -ensorflow-intel (d:\\anaconda\\lib\\site-packages)\n",
      "WARNING: Ignoring invalid distribution -ensorflow-intel (d:\\anaconda\\lib\\site-packages)\n"
     ]
    }
   ],
   "source": [
    "!pip install pulp"
   ]
  },
  {
   "cell_type": "code",
   "execution_count": 4,
   "id": "4b583a62",
   "metadata": {},
   "outputs": [],
   "source": [
    "from pulp import *"
   ]
  },
  {
   "cell_type": "code",
   "execution_count": 5,
   "id": "d17a83b6",
   "metadata": {},
   "outputs": [
    {
     "data": {
      "text/plain": [
       "['FixedElasticSubProblem',\n",
       " 'FractionElasticSubProblem',\n",
       " 'Iterable',\n",
       " 'LpAffineExpression',\n",
       " 'LpConstraint',\n",
       " 'LpConstraintVar',\n",
       " 'LpElement',\n",
       " 'LpFractionConstraint',\n",
       " 'LpProblem',\n",
       " 'LpSolverDefault',\n",
       " 'LpVariable',\n",
       " 'OrderedDict',\n",
       " 'PULP_CBC_CMD',\n",
       " '_DICT_TYPE',\n",
       " '__builtins__',\n",
       " '__cached__',\n",
       " '__doc__',\n",
       " '__file__',\n",
       " '__loader__',\n",
       " '__name__',\n",
       " '__package__',\n",
       " '__spec__',\n",
       " 'clock',\n",
       " 'const',\n",
       " 'json',\n",
       " 'log',\n",
       " 'logging',\n",
       " 'lpDot',\n",
       " 'lpSum',\n",
       " 'maketrans',\n",
       " 'mpslp',\n",
       " 're',\n",
       " 'sys',\n",
       " 'time',\n",
       " 'value',\n",
       " 'warnings']"
      ]
     },
     "execution_count": 5,
     "metadata": {},
     "output_type": "execute_result"
    }
   ],
   "source": [
    "dir(pulp)"
   ]
  },
  {
   "cell_type": "markdown",
   "id": "368344c3",
   "metadata": {},
   "source": [
    "# Problem"
   ]
  },
  {
   "cell_type": "code",
   "execution_count": 6,
   "id": "4db70620",
   "metadata": {},
   "outputs": [
    {
     "data": {
      "text/plain": [
       "Diet:\n",
       "MINIMIZE\n",
       "None\n",
       "VARIABLES"
      ]
     },
     "execution_count": 6,
     "metadata": {},
     "output_type": "execute_result"
    }
   ],
   "source": [
    "prob = LpProblem(\"Diet\", LpMinimize)\n",
    "prob"
   ]
  },
  {
   "cell_type": "markdown",
   "id": "78e05dea",
   "metadata": {},
   "source": [
    "# Decision variables\n",
    "The independent variables to be found to optimize the objective function are called the decision variables. In this case, x and y are the decision variables that are the unknowns of the mathematical programming model.\n"
   ]
  },
  {
   "cell_type": "code",
   "execution_count": 7,
   "id": "671282bc",
   "metadata": {},
   "outputs": [],
   "source": [
    "x1 = LpVariable ('x1', lowBound = 0, upBound=None, cat ='Integer', e= None)\n",
    "x2 =LpVariable('x2', lowBound = 0,upBound=None, cat ='Integer',e= None)\n"
   ]
  },
  {
   "cell_type": "markdown",
   "id": "7685fa28",
   "metadata": {},
   "source": [
    "# Objective Function :\n",
    " It is also known as the cost function or the “goal” of our optimization problem. Either we’ll maximize or minimize it based on the given problem statement. For example, it could be maximizing the profit of a company or minimizing the expenses of the company due to its regular functioning."
   ]
  },
  {
   "cell_type": "code",
   "execution_count": 8,
   "id": "9f7461c6",
   "metadata": {},
   "outputs": [
    {
     "data": {
      "text/plain": [
       "Diet:\n",
       "MINIMIZE\n",
       "6*x1 + 3*x2 + 0\n",
       "VARIABLES\n",
       "0 <= x1 Integer\n",
       "0 <= x2 Integer"
      ]
     },
     "execution_count": 8,
     "metadata": {},
     "output_type": "execute_result"
    }
   ],
   "source": [
    "prob += 6*x1 + 3*x2\n",
    "prob"
   ]
  },
  {
   "cell_type": "markdown",
   "id": "9cd3dce8",
   "metadata": {},
   "source": [
    "# Constraints\n",
    "\n",
    "- constarint on calcium : $12x_1 +3x_2 \\geq 240$ , i.e., $4x_1 + x_2 \\geq 80$\n",
    "\n",
    "- constarint on iron : $4x_1 + 20x_2 \\geq 460$ , i.e., $x_1 +5x_2 \\geq 115$\n",
    "\n",
    "- constarint on cholesterol : $6x_1 +4x_2 \\leq 300$ , i.e., $3x_1+2x_2 \\leq 150$\n",
    "\n",
    "## Non–negativity restrictions \n",
    "The limitation on the decision variables that they will lie in the first quadrant only or their values could not be less than zero are known as the non-negative constraints. Here x, y >= 0 are the non-negative constraints\n",
    "- Non negative restriction$x_1\\geq 0$,$x_2\\geq 0$"
   ]
  },
  {
   "cell_type": "code",
   "execution_count": 9,
   "id": "f1d21cc9",
   "metadata": {},
   "outputs": [],
   "source": [
    "prob += 4*x1 + x2 >= 80      # calcium\n",
    "prob += x1 + 5*x2 >= 115     # iron\n",
    "prob += 3*x1 + 2*x2 <= 150   # cholesterol\n"
   ]
  },
  {
   "cell_type": "code",
   "execution_count": 10,
   "id": "ed7d4c5f",
   "metadata": {},
   "outputs": [
    {
     "data": {
      "text/plain": [
       "Diet:\n",
       "MINIMIZE\n",
       "6*x1 + 3*x2 + 0\n",
       "SUBJECT TO\n",
       "_C1: 4 x1 + x2 >= 80\n",
       "\n",
       "_C2: x1 + 5 x2 >= 115\n",
       "\n",
       "_C3: 3 x1 + 2 x2 <= 150\n",
       "\n",
       "VARIABLES\n",
       "0 <= x1 Integer\n",
       "0 <= x2 Integer"
      ]
     },
     "execution_count": 10,
     "metadata": {},
     "output_type": "execute_result"
    }
   ],
   "source": [
    "prob"
   ]
  },
  {
   "cell_type": "markdown",
   "id": "9db92214",
   "metadata": {},
   "source": [
    "# Solution"
   ]
  },
  {
   "cell_type": "code",
   "execution_count": 11,
   "id": "61822723",
   "metadata": {},
   "outputs": [
    {
     "data": {
      "text/plain": [
       "'Optimal'"
      ]
     },
     "execution_count": 11,
     "metadata": {},
     "output_type": "execute_result"
    }
   ],
   "source": [
    "status = prob.solve()\n",
    "LpStatus[status]"
   ]
  },
  {
   "cell_type": "code",
   "execution_count": 13,
   "id": "e716e217",
   "metadata": {},
   "outputs": [
    {
     "data": {
      "text/plain": [
       "15.0"
      ]
     },
     "execution_count": 13,
     "metadata": {},
     "output_type": "execute_result"
    }
   ],
   "source": [
    "x1.varValue"
   ]
  },
  {
   "cell_type": "code",
   "execution_count": 14,
   "id": "ad92e00c",
   "metadata": {},
   "outputs": [
    {
     "data": {
      "text/plain": [
       "20.0"
      ]
     },
     "execution_count": 14,
     "metadata": {},
     "output_type": "execute_result"
    }
   ],
   "source": [
    "x2.varValue"
   ]
  },
  {
   "cell_type": "code",
   "execution_count": 15,
   "id": "6f36541d",
   "metadata": {},
   "outputs": [
    {
     "data": {
      "text/plain": [
       "(15.0, 20.0, 150.0)"
      ]
     },
     "execution_count": 15,
     "metadata": {},
     "output_type": "execute_result"
    }
   ],
   "source": [
    "# solution\n",
    "value(x1), value(x2), value(prob.objective)"
   ]
  },
  {
   "cell_type": "code",
   "execution_count": 21,
   "id": "4c48a331",
   "metadata": {},
   "outputs": [
    {
     "data": {
      "text/plain": [
       "150.0"
      ]
     },
     "execution_count": 21,
     "metadata": {},
     "output_type": "execute_result"
    }
   ],
   "source": [
    "minimize_vitA =  6 * x1.varValue + 3 * x2.varValue\n",
    "minimize_vitA"
   ]
  },
  {
   "cell_type": "markdown",
   "id": "74ef7b08",
   "metadata": {},
   "source": [
    "## `How many packets of each food should be used to minimize the amount of vitamin  A in the diet?`\n",
    "\n",
    "#### - For required diet, i.e to minimize the amount of vitA, the required packets are\n",
    "### > - `15 packets of P` \n",
    "### > - `20 packets of Q` "
   ]
  },
  {
   "cell_type": "markdown",
   "id": "bcb560f1",
   "metadata": {},
   "source": [
    "## Feasible Region  – \n",
    "A feasible region or solution space is the set of all possible points of an optimization problem that satisfy the problem’s constraints. "
   ]
  },
  {
   "cell_type": "code",
   "execution_count": 28,
   "id": "9ef7e20e",
   "metadata": {},
   "outputs": [
    {
     "data": {
      "image/png": "[encoded data removed]",
      "text/plain": [
       "<Figure size 640x480 with 1 Axes>"
      ]
     },
     "metadata": {},
     "output_type": "display_data"
    }
   ],
   "source": [
    "import matplotlib.pyplot as plt\n",
    "\n",
    "def equation1(x):\n",
    "    return 80 - 4*x\n",
    "def equation2(x):\n",
    "    return (115 - x) / 5\n",
    "def  equation3(x):\n",
    "    return (150 - 3*x) / 2\n",
    "\n",
    "x_values = np.linspace(0, 50, 100)  \n",
    "\n",
    "y_values1 = equation1(x_values)\n",
    "y_values2 = equation2(x_values)\n",
    "y_values3 = equation3(x_values)\n",
    "\n",
    "\n",
    "plt.fill_between(x_values, y_values1, y_values3, color='lightblue', label='Intersection Region', where=np.logical_or(y_values3 >= y_values1, y_values3 <= y_values2))\n",
    "plt.fill_between(x_values, y_values1, y_values2, color= 'lightcoral', where=np.logical_or(y_values2 >= y_values1, y_values2 <= y_values3))\n",
    "\n",
    "plt.plot(x_values, y_values1, label='4x1 + x2 >= 80')\n",
    "plt.plot(x_values, y_values2, label='x1 + 5x2 >= 115')\n",
    "plt.plot(x_values, y_values3, label='3x1 + 2x2 <= 150')\n",
    "plt.grid(color = 'gray', linestyle = '--', linewidth = 0.5)\n",
    "plt.legend()\n",
    "plt.show()"
   ]
  },
  {
   "cell_type": "code",
   "execution_count": null,
   "id": "f8d0208e",
   "metadata": {},
   "outputs": [],
   "source": []
  }
 ],
 "metadata": {
  "kernelspec": {
   "display_name": "Python 3 (ipykernel)",
   "language": "python",
   "name": "python3"
  },
  "language_info": {
   "codemirror_mode": {
    "name": "ipython",
    "version": 3
   },
   "file_extension": ".py",
   "mimetype": "text/x-python",
   "name": "python",
   "nbconvert_exporter": "python",
   "pygments_lexer": "ipython3",
   "version": "3.10.9"
  }
 },
 "nbformat": 4,
 "nbformat_minor": 5
}
